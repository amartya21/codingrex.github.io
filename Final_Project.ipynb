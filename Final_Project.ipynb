{
 "cells": [
  {
   "cell_type": "markdown",
   "metadata": {},
   "source": [
    "# New York City Green Taxi Tip Prediction "
   ]
  },
  {
   "cell_type": "markdown",
   "metadata": {},
   "source": [
    "\n",
    "## Introduction:\n",
    "\n",
    "write something to talk about the green taxi here.\n",
    "\n",
    "\n",
    "\n",
    "For more information, read: \n",
    "https://en.wikipedia.org/wiki/Boro_taxi\n",
    "\n",
    "In this project, we will perform stepwise data analysis on the dataset and try to explore the following things:\n",
    "\n"
   ]
  },
  {
   "cell_type": "markdown",
   "metadata": {},
   "source": [
    "## Required Tools\n",
    "\n",
    "The following libraries are required for this project:\n",
    "1. pandas\n"
   ]
  },
  {
   "cell_type": "code",
   "execution_count": 4,
   "metadata": {},
   "outputs": [],
   "source": [
    "import pandas as pd"
   ]
  },
  {
   "cell_type": "markdown",
   "metadata": {},
   "source": [
    "## Part 1 Data Collection\n",
    "\n",
    "First we can find the direct link for the October 2017 NYC green taxi data by reading the html website source code (https://s3.amazonaws.com/nyc-tlc/trip+data/green_tripdata_%4d-%02d.csv). \n",
    "\n",
    "These data is collected from New York City Taxi and Limousine Commission website (http://www.nyc.gov/html/tlc/html/about/trip_record_data.shtml). \n",
    "\n",
    "Then we load the csv file into the panda dataframe. \n",
    "\n",
    "The data contains 1.5 M rows and 19 columns."
   ]
  },
  {
   "cell_type": "code",
   "execution_count": 6,
   "metadata": {},
   "outputs": [],
   "source": [
    "year, month = 2017, 10\n",
    "url = \"https://s3.amazonaws.com/nyc-tlc/trip+data/green_tripdata_%4d-%02d.csv\" % (year,month)\n",
    "raw_data = pd.read_csv(url)"
   ]
  },
  {
   "cell_type": "code",
   "execution_count": 7,
   "metadata": {},
   "outputs": [
    {
     "data": {
      "text/html": [
       "<div>\n",
       "<style scoped>\n",
       "    .dataframe tbody tr th:only-of-type {\n",
       "        vertical-align: middle;\n",
       "    }\n",
       "\n",
       "    .dataframe tbody tr th {\n",
       "        vertical-align: top;\n",
       "    }\n",
       "\n",
       "    .dataframe thead th {\n",
       "        text-align: right;\n",
       "    }\n",
       "</style>\n",
       "<table border=\"1\" class=\"dataframe\">\n",
       "  <thead>\n",
       "    <tr style=\"text-align: right;\">\n",
       "      <th></th>\n",
       "      <th>VendorID</th>\n",
       "      <th>lpep_pickup_datetime</th>\n",
       "      <th>lpep_dropoff_datetime</th>\n",
       "      <th>store_and_fwd_flag</th>\n",
       "      <th>RatecodeID</th>\n",
       "      <th>PULocationID</th>\n",
       "      <th>DOLocationID</th>\n",
       "      <th>passenger_count</th>\n",
       "      <th>trip_distance</th>\n",
       "      <th>fare_amount</th>\n",
       "      <th>extra</th>\n",
       "      <th>mta_tax</th>\n",
       "      <th>tip_amount</th>\n",
       "      <th>tolls_amount</th>\n",
       "      <th>ehail_fee</th>\n",
       "      <th>improvement_surcharge</th>\n",
       "      <th>total_amount</th>\n",
       "      <th>payment_type</th>\n",
       "      <th>trip_type</th>\n",
       "    </tr>\n",
       "  </thead>\n",
       "  <tbody>\n",
       "    <tr>\n",
       "      <th>222745</th>\n",
       "      <td>2</td>\n",
       "      <td>2017-10-08 13:14:28</td>\n",
       "      <td>2017-10-08 13:23:57</td>\n",
       "      <td>N</td>\n",
       "      <td>1</td>\n",
       "      <td>225</td>\n",
       "      <td>63</td>\n",
       "      <td>1</td>\n",
       "      <td>2.49</td>\n",
       "      <td>10.0</td>\n",
       "      <td>0.0</td>\n",
       "      <td>0.5</td>\n",
       "      <td>0.00</td>\n",
       "      <td>0.0</td>\n",
       "      <td>NaN</td>\n",
       "      <td>0.3</td>\n",
       "      <td>10.80</td>\n",
       "      <td>2</td>\n",
       "      <td>1.0</td>\n",
       "    </tr>\n",
       "    <tr>\n",
       "      <th>608651</th>\n",
       "      <td>2</td>\n",
       "      <td>2017-10-21 14:51:56</td>\n",
       "      <td>2017-10-21 14:58:47</td>\n",
       "      <td>N</td>\n",
       "      <td>1</td>\n",
       "      <td>243</td>\n",
       "      <td>244</td>\n",
       "      <td>1</td>\n",
       "      <td>0.87</td>\n",
       "      <td>6.0</td>\n",
       "      <td>0.0</td>\n",
       "      <td>0.5</td>\n",
       "      <td>0.00</td>\n",
       "      <td>0.0</td>\n",
       "      <td>NaN</td>\n",
       "      <td>0.3</td>\n",
       "      <td>6.80</td>\n",
       "      <td>2</td>\n",
       "      <td>1.0</td>\n",
       "    </tr>\n",
       "    <tr>\n",
       "      <th>739257</th>\n",
       "      <td>2</td>\n",
       "      <td>2017-10-26 03:56:19</td>\n",
       "      <td>2017-10-26 04:04:04</td>\n",
       "      <td>N</td>\n",
       "      <td>1</td>\n",
       "      <td>82</td>\n",
       "      <td>173</td>\n",
       "      <td>1</td>\n",
       "      <td>1.93</td>\n",
       "      <td>8.5</td>\n",
       "      <td>0.5</td>\n",
       "      <td>0.5</td>\n",
       "      <td>0.00</td>\n",
       "      <td>0.0</td>\n",
       "      <td>NaN</td>\n",
       "      <td>0.3</td>\n",
       "      <td>9.80</td>\n",
       "      <td>2</td>\n",
       "      <td>1.0</td>\n",
       "    </tr>\n",
       "    <tr>\n",
       "      <th>524975</th>\n",
       "      <td>2</td>\n",
       "      <td>2017-10-18 21:10:04</td>\n",
       "      <td>2017-10-18 21:23:40</td>\n",
       "      <td>N</td>\n",
       "      <td>1</td>\n",
       "      <td>145</td>\n",
       "      <td>223</td>\n",
       "      <td>5</td>\n",
       "      <td>3.12</td>\n",
       "      <td>12.0</td>\n",
       "      <td>0.5</td>\n",
       "      <td>0.5</td>\n",
       "      <td>2.66</td>\n",
       "      <td>0.0</td>\n",
       "      <td>NaN</td>\n",
       "      <td>0.3</td>\n",
       "      <td>15.96</td>\n",
       "      <td>1</td>\n",
       "      <td>1.0</td>\n",
       "    </tr>\n",
       "    <tr>\n",
       "      <th>305579</th>\n",
       "      <td>1</td>\n",
       "      <td>2017-10-11 17:24:21</td>\n",
       "      <td>2017-10-11 17:34:26</td>\n",
       "      <td>N</td>\n",
       "      <td>1</td>\n",
       "      <td>129</td>\n",
       "      <td>70</td>\n",
       "      <td>1</td>\n",
       "      <td>2.80</td>\n",
       "      <td>10.5</td>\n",
       "      <td>1.0</td>\n",
       "      <td>0.5</td>\n",
       "      <td>1.23</td>\n",
       "      <td>0.0</td>\n",
       "      <td>NaN</td>\n",
       "      <td>0.3</td>\n",
       "      <td>13.53</td>\n",
       "      <td>1</td>\n",
       "      <td>1.0</td>\n",
       "    </tr>\n",
       "  </tbody>\n",
       "</table>\n",
       "</div>"
      ],
      "text/plain": [
       "        VendorID lpep_pickup_datetime lpep_dropoff_datetime  \\\n",
       "222745         2  2017-10-08 13:14:28   2017-10-08 13:23:57   \n",
       "608651         2  2017-10-21 14:51:56   2017-10-21 14:58:47   \n",
       "739257         2  2017-10-26 03:56:19   2017-10-26 04:04:04   \n",
       "524975         2  2017-10-18 21:10:04   2017-10-18 21:23:40   \n",
       "305579         1  2017-10-11 17:24:21   2017-10-11 17:34:26   \n",
       "\n",
       "       store_and_fwd_flag  RatecodeID  PULocationID  DOLocationID  \\\n",
       "222745                  N           1           225            63   \n",
       "608651                  N           1           243           244   \n",
       "739257                  N           1            82           173   \n",
       "524975                  N           1           145           223   \n",
       "305579                  N           1           129            70   \n",
       "\n",
       "        passenger_count  trip_distance  fare_amount  extra  mta_tax  \\\n",
       "222745                1           2.49         10.0    0.0      0.5   \n",
       "608651                1           0.87          6.0    0.0      0.5   \n",
       "739257                1           1.93          8.5    0.5      0.5   \n",
       "524975                5           3.12         12.0    0.5      0.5   \n",
       "305579                1           2.80         10.5    1.0      0.5   \n",
       "\n",
       "        tip_amount  tolls_amount  ehail_fee  improvement_surcharge  \\\n",
       "222745        0.00           0.0        NaN                    0.3   \n",
       "608651        0.00           0.0        NaN                    0.3   \n",
       "739257        0.00           0.0        NaN                    0.3   \n",
       "524975        2.66           0.0        NaN                    0.3   \n",
       "305579        1.23           0.0        NaN                    0.3   \n",
       "\n",
       "        total_amount  payment_type  trip_type  \n",
       "222745         10.80             2        1.0  \n",
       "608651          6.80             2        1.0  \n",
       "739257          9.80             2        1.0  \n",
       "524975         15.96             1        1.0  \n",
       "305579         13.53             1        1.0  "
      ]
     },
     "execution_count": 7,
     "metadata": {},
     "output_type": "execute_result"
    }
   ],
   "source": [
    "raw_data.sample(5)"
   ]
  },
  {
   "cell_type": "code",
   "execution_count": 11,
   "metadata": {},
   "outputs": [
    {
     "name": "stdout",
     "output_type": "stream",
     "text": [
      "Number of rows:  925737 \n",
      "Number of columns:  19\n"
     ]
    }
   ],
   "source": [
    "print(\"Number of rows: \", raw_data.shape[0],\"\\nNumber of columns: \", raw_data.shape[1])"
   ]
  },
  {
   "cell_type": "code",
   "execution_count": 4,
   "metadata": {},
   "outputs": [
    {
     "data": {
      "text/plain": [
       "Index(['VendorID', 'lpep_pickup_datetime', 'Lpep_dropoff_datetime',\n",
       "       'Store_and_fwd_flag', 'RateCodeID', 'Pickup_longitude',\n",
       "       'Pickup_latitude', 'Dropoff_longitude', 'Dropoff_latitude',\n",
       "       'Passenger_count', 'Trip_distance', 'Fare_amount', 'Extra', 'MTA_tax',\n",
       "       'Tip_amount', 'Tolls_amount', 'Ehail_fee', 'improvement_surcharge',\n",
       "       'Total_amount', 'Payment_type', 'Trip_type '],\n",
       "      dtype='object')"
      ]
     },
     "execution_count": 4,
     "metadata": {},
     "output_type": "execute_result"
    }
   ],
   "source": [
    "raw_data.columns"
   ]
  },
  {
   "cell_type": "markdown",
   "metadata": {},
   "source": [
    "It contains following informations, such as pickup/dropoff date, time, and location, trip distance, fair amount in differnt subjects, and payment types.\n",
    "\n",
    "The detailed explaination for the columns can be found at \n",
    "(http://www.nyc.gov/html/tlc/downloads/pdf/data_dictionary_trip_records_green.pdf)"
   ]
  },
  {
   "cell_type": "markdown",
   "metadata": {},
   "source": [
    "## Part 2 Data Processing\n",
    "\n",
    "First we can find the direct link for the October 2017 NYC green taxi data by reading the html website source code (https://s3.amazonaws.com/nyc-tlc/trip+data/green_tripdata_%4d-%02d.csv). \n",
    "\n",
    "These data is collected from New York City Taxi and Limousine Commission website (http://www.nyc.gov/html/tlc/html/about/trip_record_data.shtml). \n",
    "\n",
    "Then we load the csv file into the panda dataframe. \n",
    "\n",
    "The data contains 1.5 M rows and 19 columns."
   ]
  },
  {
   "cell_type": "code",
   "execution_count": 5,
   "metadata": {},
   "outputs": [
    {
     "name": "stdout",
     "output_type": "stream",
     "text": [
      "VendorID\n",
      "2    1169099\n",
      "1     325827\n",
      "Name: VendorID, dtype: int64\n",
      "\n",
      "Store_and_fwd_flag\n",
      "N    1486192\n",
      "Y       8734\n",
      "Name: Store_and_fwd_flag, dtype: int64\n",
      "\n",
      "RateCodeID\n",
      "1     1454464\n",
      "5       33943\n",
      "2        4435\n",
      "3        1117\n",
      "4         925\n",
      "6          36\n",
      "99          6\n",
      "Name: RateCodeID, dtype: int64\n",
      "\n",
      "Pickup_longitude\n",
      " 0.000000     2110\n",
      "-73.844299     886\n",
      "-73.844292     814\n",
      "-73.844276     801\n",
      "-73.844315     798\n",
      "-73.939163     784\n",
      "-73.844269     755\n",
      "-73.844322     718\n",
      "-73.844307     715\n",
      "-73.939201     707\n",
      "-73.939178     702\n",
      "-73.939156     692\n",
      "-73.939140     662\n",
      "-73.844284     649\n",
      "-73.939194     638\n",
      "-73.939125     621\n",
      "-73.939095     618\n",
      "-73.844330     616\n",
      "-73.939110     612\n",
      "-73.844254     606\n",
      "-73.939224     599\n",
      "-73.939133     580\n",
      "-73.939072     571\n",
      "-73.939148     557\n",
      "-73.939240     552\n",
      "-73.957619     543\n",
      "-73.939217     542\n",
      "-73.844345     540\n",
      "-73.939079     539\n",
      "-73.957588     533\n",
      "              ... \n",
      "-74.220581       1\n",
      "-73.766144       1\n",
      "-73.772400       1\n",
      "-74.030891       1\n",
      "-73.771858       1\n",
      "-74.023842       1\n",
      "-73.847130       1\n",
      "-74.023544       1\n",
      "-74.024063       1\n",
      "-73.766541       1\n",
      "-73.766869       1\n",
      "-73.762169       1\n",
      "-73.776581       1\n",
      "-74.149513       1\n",
      "-74.155716       1\n",
      "-73.801819       1\n",
      "-74.027664       1\n",
      "-74.028267       1\n",
      "-74.028046       1\n",
      "-73.804649       1\n",
      "-73.769485       1\n",
      "-73.792587       1\n",
      "-73.802803       1\n",
      "-73.768906       1\n",
      "-73.792015       1\n",
      "-73.776772       1\n",
      "-73.768158       1\n",
      "-73.792206       1\n",
      "-73.767296       1\n",
      "-73.795708       1\n",
      "Name: Pickup_longitude, Length: 31519, dtype: int64\n",
      "\n",
      "Pickup_latitude\n",
      "0.000000     2110\n",
      "40.721352     634\n",
      "40.721336     629\n",
      "40.721367     562\n",
      "40.721329     522\n",
      "40.721355     484\n",
      "40.721378     481\n",
      "40.721340     460\n",
      "40.721321     453\n",
      "40.721348     435\n",
      "40.721371     401\n",
      "40.713718     394\n",
      "40.721344     389\n",
      "40.721333     381\n",
      "40.721363     370\n",
      "40.746899     364\n",
      "40.721394     357\n",
      "40.721359     355\n",
      "40.746922     355\n",
      "40.721313     349\n",
      "40.746948     347\n",
      "40.746964     347\n",
      "40.713703     343\n",
      "40.746906     340\n",
      "40.746937     334\n",
      "40.702423     327\n",
      "40.721386     327\n",
      "40.746868     326\n",
      "40.721401     325\n",
      "40.746971     319\n",
      "             ... \n",
      "40.609306       1\n",
      "40.783356       1\n",
      "40.908337       1\n",
      "40.609364       1\n",
      "40.783207       1\n",
      "40.860321       1\n",
      "40.860138       1\n",
      "40.656540       1\n",
      "40.911545       1\n",
      "40.609028       1\n",
      "39.356937       1\n",
      "40.577351       1\n",
      "40.782433       1\n",
      "40.911308       1\n",
      "40.912998       1\n",
      "40.859894       1\n",
      "40.859928       1\n",
      "40.579952       1\n",
      "40.890163       1\n",
      "40.574966       1\n",
      "40.910294       1\n",
      "40.605549       1\n",
      "40.575146       1\n",
      "40.913536       1\n",
      "40.657909       1\n",
      "40.658020       1\n",
      "40.859589       1\n",
      "40.606190       1\n",
      "40.912247       1\n",
      "40.888031       1\n",
      "Name: Pickup_latitude, Length: 70340, dtype: int64\n",
      "\n",
      "Dropoff_longitude\n",
      " 0.000000     1963\n",
      "-73.952728     263\n",
      "-73.952766     260\n",
      "-73.939178     251\n",
      "-73.939323     251\n",
      "-73.939140     236\n",
      "-73.952606     236\n",
      "-73.939362     234\n",
      "-73.952759     233\n",
      "-73.952744     231\n",
      "-73.952789     230\n",
      "-73.952805     225\n",
      "-73.939156     224\n",
      "-73.939163     222\n",
      "-73.951691     220\n",
      "-73.952293     220\n",
      "-73.952713     218\n",
      "-73.952705     217\n",
      "-73.952621     217\n",
      "-73.939110     215\n",
      "-73.952644     214\n",
      "-73.952316     214\n",
      "-73.953056     213\n",
      "-73.953178     213\n",
      "-73.952515     213\n",
      "-73.939125     212\n",
      "-73.939339     212\n",
      "-73.952888     210\n",
      "-73.952599     210\n",
      "-73.939079     209\n",
      "              ... \n",
      "-74.233185       1\n",
      "-74.018204       1\n",
      "-74.019264       1\n",
      "-74.238060       1\n",
      "-73.689934       1\n",
      "-73.691299       1\n",
      "-73.691193       1\n",
      "-74.168556       1\n",
      "-74.078148       1\n",
      "-73.690590       1\n",
      "-74.170120       1\n",
      "-73.699806       1\n",
      "-74.170448       1\n",
      "-73.699852       1\n",
      "-74.085884       1\n",
      "-74.166794       1\n",
      "-74.083420       1\n",
      "-74.244942       1\n",
      "-74.161224       1\n",
      "-74.244148       1\n",
      "-74.089378       1\n",
      "-74.163208       1\n",
      "-74.163651       1\n",
      "-74.159515       1\n",
      "-74.159378       1\n",
      "-74.159157       1\n",
      "-73.699554       1\n",
      "-73.701057       1\n",
      "-73.700768       1\n",
      "-74.176910       1\n",
      "Name: Dropoff_longitude, Length: 40641, dtype: int64\n",
      "\n",
      "Payment_type\n",
      "2    783699\n",
      "1    701287\n",
      "3      5498\n",
      "4      4368\n",
      "5        74\n",
      "Name: Payment_type, dtype: int64\n",
      "\n",
      "Trip_type \n",
      "1.0    1461506\n",
      "2.0      33416\n",
      "Name: Trip_type , dtype: int64\n",
      "\n"
     ]
    }
   ],
   "source": [
    "col_to_count = raw_data.columns[[0,3,4,5,6,7,-2,-1]]\n",
    "for col in col_to_count:\n",
    "    print(col)\n",
    "    print(raw_data[col].value_counts())\n",
    "    print()"
   ]
  },
  {
   "cell_type": "code",
   "execution_count": 6,
   "metadata": {},
   "outputs": [],
   "source": [
    "df = raw_data.copy()"
   ]
  },
  {
   "cell_type": "code",
   "execution_count": 7,
   "metadata": {},
   "outputs": [],
   "source": [
    "import matplotlib.pyplot as plt\n",
    "%matplotlib inline\n",
    "import numpy as np\n",
    "import pandas as pd"
   ]
  },
  {
   "cell_type": "markdown",
   "metadata": {},
   "source": [
    "Let us check and dimension of this dataset and answer the first question."
   ]
  },
  {
   "cell_type": "code",
   "execution_count": 8,
   "metadata": {
    "scrolled": true
   },
   "outputs": [
    {
     "name": "stdout",
     "output_type": "stream",
     "text": [
      "(1494926, 21)\n",
      "Index(['VendorID', 'lpep_pickup_datetime', 'Lpep_dropoff_datetime',\n",
      "       'Store_and_fwd_flag', 'RateCodeID', 'Pickup_longitude',\n",
      "       'Pickup_latitude', 'Dropoff_longitude', 'Dropoff_latitude',\n",
      "       'Passenger_count', 'Trip_distance', 'Fare_amount', 'Extra', 'MTA_tax',\n",
      "       'Tip_amount', 'Tolls_amount', 'Ehail_fee', 'improvement_surcharge',\n",
      "       'Total_amount', 'Payment_type', 'Trip_type '],\n",
      "      dtype='object')\n"
     ]
    }
   ],
   "source": [
    "print(df.shape)\n",
    "print(df.columns)"
   ]
  },
  {
   "cell_type": "markdown",
   "metadata": {},
   "source": [
    "### check trip distance column and see if there are some problems."
   ]
  },
  {
   "cell_type": "code",
   "execution_count": 9,
   "metadata": {},
   "outputs": [],
   "source": [
    "df = df[df['Trip_distance'] > 0]"
   ]
  },
  {
   "cell_type": "code",
   "execution_count": 10,
   "metadata": {},
   "outputs": [
    {
     "data": {
      "text/html": [
       "<div>\n",
       "<style>\n",
       "    .dataframe thead tr:only-child th {\n",
       "        text-align: right;\n",
       "    }\n",
       "\n",
       "    .dataframe thead th {\n",
       "        text-align: left;\n",
       "    }\n",
       "\n",
       "    .dataframe tbody tr th {\n",
       "        vertical-align: top;\n",
       "    }\n",
       "</style>\n",
       "<table border=\"1\" class=\"dataframe\">\n",
       "  <thead>\n",
       "    <tr style=\"text-align: right;\">\n",
       "      <th></th>\n",
       "      <th>VendorID</th>\n",
       "      <th>lpep_pickup_datetime</th>\n",
       "      <th>Lpep_dropoff_datetime</th>\n",
       "      <th>Store_and_fwd_flag</th>\n",
       "      <th>RateCodeID</th>\n",
       "      <th>Pickup_longitude</th>\n",
       "      <th>Pickup_latitude</th>\n",
       "      <th>Dropoff_longitude</th>\n",
       "      <th>Dropoff_latitude</th>\n",
       "      <th>Passenger_count</th>\n",
       "      <th>...</th>\n",
       "      <th>Fare_amount</th>\n",
       "      <th>Extra</th>\n",
       "      <th>MTA_tax</th>\n",
       "      <th>Tip_amount</th>\n",
       "      <th>Tolls_amount</th>\n",
       "      <th>Ehail_fee</th>\n",
       "      <th>improvement_surcharge</th>\n",
       "      <th>Total_amount</th>\n",
       "      <th>Payment_type</th>\n",
       "      <th>Trip_type</th>\n",
       "    </tr>\n",
       "  </thead>\n",
       "  <tbody>\n",
       "    <tr>\n",
       "      <th>478080</th>\n",
       "      <td>2</td>\n",
       "      <td>2015-09-10 21:15:00</td>\n",
       "      <td>2015-09-11 00:52:07</td>\n",
       "      <td>N</td>\n",
       "      <td>5</td>\n",
       "      <td>-73.871719</td>\n",
       "      <td>40.771744</td>\n",
       "      <td>-76.121590</td>\n",
       "      <td>42.799343</td>\n",
       "      <td>1</td>\n",
       "      <td>...</td>\n",
       "      <td>300.00</td>\n",
       "      <td>0.0</td>\n",
       "      <td>0.0</td>\n",
       "      <td>77.44</td>\n",
       "      <td>9.75</td>\n",
       "      <td>NaN</td>\n",
       "      <td>0.0</td>\n",
       "      <td>387.19</td>\n",
       "      <td>1</td>\n",
       "      <td>2.0</td>\n",
       "    </tr>\n",
       "    <tr>\n",
       "      <th>516757</th>\n",
       "      <td>2</td>\n",
       "      <td>2015-09-11 17:22:50</td>\n",
       "      <td>2015-09-11 20:39:48</td>\n",
       "      <td>N</td>\n",
       "      <td>1</td>\n",
       "      <td>-73.937775</td>\n",
       "      <td>40.800926</td>\n",
       "      <td>-72.269753</td>\n",
       "      <td>40.928116</td>\n",
       "      <td>1</td>\n",
       "      <td>...</td>\n",
       "      <td>316.00</td>\n",
       "      <td>1.0</td>\n",
       "      <td>0.5</td>\n",
       "      <td>0.00</td>\n",
       "      <td>0.00</td>\n",
       "      <td>NaN</td>\n",
       "      <td>0.3</td>\n",
       "      <td>317.80</td>\n",
       "      <td>2</td>\n",
       "      <td>1.0</td>\n",
       "    </tr>\n",
       "    <tr>\n",
       "      <th>885097</th>\n",
       "      <td>2</td>\n",
       "      <td>2015-09-18 20:21:27</td>\n",
       "      <td>2015-09-18 22:36:04</td>\n",
       "      <td>N</td>\n",
       "      <td>1</td>\n",
       "      <td>-73.958954</td>\n",
       "      <td>40.819847</td>\n",
       "      <td>-72.258629</td>\n",
       "      <td>40.930805</td>\n",
       "      <td>1</td>\n",
       "      <td>...</td>\n",
       "      <td>258.50</td>\n",
       "      <td>0.5</td>\n",
       "      <td>0.5</td>\n",
       "      <td>0.00</td>\n",
       "      <td>0.00</td>\n",
       "      <td>NaN</td>\n",
       "      <td>0.3</td>\n",
       "      <td>259.80</td>\n",
       "      <td>2</td>\n",
       "      <td>1.0</td>\n",
       "    </tr>\n",
       "    <tr>\n",
       "      <th>944537</th>\n",
       "      <td>1</td>\n",
       "      <td>2015-09-19 18:49:29</td>\n",
       "      <td>2015-09-19 21:06:23</td>\n",
       "      <td>N</td>\n",
       "      <td>1</td>\n",
       "      <td>-73.961609</td>\n",
       "      <td>40.805958</td>\n",
       "      <td>-72.261024</td>\n",
       "      <td>41.917648</td>\n",
       "      <td>1</td>\n",
       "      <td>...</td>\n",
       "      <td>342.50</td>\n",
       "      <td>0.0</td>\n",
       "      <td>0.5</td>\n",
       "      <td>102.95</td>\n",
       "      <td>0.00</td>\n",
       "      <td>NaN</td>\n",
       "      <td>0.3</td>\n",
       "      <td>446.25</td>\n",
       "      <td>1</td>\n",
       "      <td>1.0</td>\n",
       "    </tr>\n",
       "    <tr>\n",
       "      <th>1077032</th>\n",
       "      <td>2</td>\n",
       "      <td>2015-09-22 10:30:53</td>\n",
       "      <td>2015-09-22 12:28:59</td>\n",
       "      <td>N</td>\n",
       "      <td>1</td>\n",
       "      <td>-73.898193</td>\n",
       "      <td>40.749580</td>\n",
       "      <td>-73.899033</td>\n",
       "      <td>40.746319</td>\n",
       "      <td>1</td>\n",
       "      <td>...</td>\n",
       "      <td>271.50</td>\n",
       "      <td>0.0</td>\n",
       "      <td>0.5</td>\n",
       "      <td>0.00</td>\n",
       "      <td>15.29</td>\n",
       "      <td>NaN</td>\n",
       "      <td>0.3</td>\n",
       "      <td>287.59</td>\n",
       "      <td>2</td>\n",
       "      <td>1.0</td>\n",
       "    </tr>\n",
       "    <tr>\n",
       "      <th>1282594</th>\n",
       "      <td>2</td>\n",
       "      <td>2015-09-26 17:23:52</td>\n",
       "      <td>2015-09-27 00:00:00</td>\n",
       "      <td>N</td>\n",
       "      <td>5</td>\n",
       "      <td>-73.803436</td>\n",
       "      <td>40.677845</td>\n",
       "      <td>-73.840210</td>\n",
       "      <td>40.719513</td>\n",
       "      <td>2</td>\n",
       "      <td>...</td>\n",
       "      <td>180.00</td>\n",
       "      <td>0.0</td>\n",
       "      <td>0.5</td>\n",
       "      <td>18.08</td>\n",
       "      <td>0.00</td>\n",
       "      <td>NaN</td>\n",
       "      <td>0.3</td>\n",
       "      <td>198.88</td>\n",
       "      <td>1</td>\n",
       "      <td>1.0</td>\n",
       "    </tr>\n",
       "    <tr>\n",
       "      <th>1321961</th>\n",
       "      <td>1</td>\n",
       "      <td>2015-09-27 03:13:48</td>\n",
       "      <td>2015-09-27 03:24:12</td>\n",
       "      <td>N</td>\n",
       "      <td>1</td>\n",
       "      <td>-73.937164</td>\n",
       "      <td>40.804386</td>\n",
       "      <td>-73.901382</td>\n",
       "      <td>40.819443</td>\n",
       "      <td>1</td>\n",
       "      <td>...</td>\n",
       "      <td>1.25</td>\n",
       "      <td>0.5</td>\n",
       "      <td>0.5</td>\n",
       "      <td>0.00</td>\n",
       "      <td>0.00</td>\n",
       "      <td>NaN</td>\n",
       "      <td>0.3</td>\n",
       "      <td>2.55</td>\n",
       "      <td>2</td>\n",
       "      <td>1.0</td>\n",
       "    </tr>\n",
       "    <tr>\n",
       "      <th>1416994</th>\n",
       "      <td>1</td>\n",
       "      <td>2015-09-29 10:45:52</td>\n",
       "      <td>2015-09-29 16:55:23</td>\n",
       "      <td>N</td>\n",
       "      <td>1</td>\n",
       "      <td>-73.931129</td>\n",
       "      <td>40.693161</td>\n",
       "      <td>-73.936172</td>\n",
       "      <td>40.685581</td>\n",
       "      <td>2</td>\n",
       "      <td>...</td>\n",
       "      <td>389.00</td>\n",
       "      <td>0.0</td>\n",
       "      <td>0.5</td>\n",
       "      <td>0.00</td>\n",
       "      <td>41.08</td>\n",
       "      <td>NaN</td>\n",
       "      <td>0.3</td>\n",
       "      <td>430.88</td>\n",
       "      <td>1</td>\n",
       "      <td>1.0</td>\n",
       "    </tr>\n",
       "    <tr>\n",
       "      <th>1432692</th>\n",
       "      <td>1</td>\n",
       "      <td>2015-09-29 17:01:17</td>\n",
       "      <td>2015-09-29 17:01:19</td>\n",
       "      <td>N</td>\n",
       "      <td>3</td>\n",
       "      <td>-73.936172</td>\n",
       "      <td>40.685581</td>\n",
       "      <td>-73.936172</td>\n",
       "      <td>40.685581</td>\n",
       "      <td>1</td>\n",
       "      <td>...</td>\n",
       "      <td>20.00</td>\n",
       "      <td>1.0</td>\n",
       "      <td>0.0</td>\n",
       "      <td>6.35</td>\n",
       "      <td>0.00</td>\n",
       "      <td>NaN</td>\n",
       "      <td>0.3</td>\n",
       "      <td>27.65</td>\n",
       "      <td>1</td>\n",
       "      <td>1.0</td>\n",
       "    </tr>\n",
       "    <tr>\n",
       "      <th>1457965</th>\n",
       "      <td>2</td>\n",
       "      <td>2015-09-30 09:42:56</td>\n",
       "      <td>2015-09-30 09:42:56</td>\n",
       "      <td>N</td>\n",
       "      <td>5</td>\n",
       "      <td>-73.914627</td>\n",
       "      <td>40.871475</td>\n",
       "      <td>-73.912315</td>\n",
       "      <td>40.872181</td>\n",
       "      <td>1</td>\n",
       "      <td>...</td>\n",
       "      <td>18.00</td>\n",
       "      <td>0.0</td>\n",
       "      <td>0.0</td>\n",
       "      <td>0.00</td>\n",
       "      <td>0.00</td>\n",
       "      <td>NaN</td>\n",
       "      <td>0.3</td>\n",
       "      <td>18.30</td>\n",
       "      <td>2</td>\n",
       "      <td>1.0</td>\n",
       "    </tr>\n",
       "  </tbody>\n",
       "</table>\n",
       "<p>10 rows × 21 columns</p>\n",
       "</div>"
      ],
      "text/plain": [
       "         VendorID lpep_pickup_datetime Lpep_dropoff_datetime  \\\n",
       "478080          2  2015-09-10 21:15:00   2015-09-11 00:52:07   \n",
       "516757          2  2015-09-11 17:22:50   2015-09-11 20:39:48   \n",
       "885097          2  2015-09-18 20:21:27   2015-09-18 22:36:04   \n",
       "944537          1  2015-09-19 18:49:29   2015-09-19 21:06:23   \n",
       "1077032         2  2015-09-22 10:30:53   2015-09-22 12:28:59   \n",
       "1282594         2  2015-09-26 17:23:52   2015-09-27 00:00:00   \n",
       "1321961         1  2015-09-27 03:13:48   2015-09-27 03:24:12   \n",
       "1416994         1  2015-09-29 10:45:52   2015-09-29 16:55:23   \n",
       "1432692         1  2015-09-29 17:01:17   2015-09-29 17:01:19   \n",
       "1457965         2  2015-09-30 09:42:56   2015-09-30 09:42:56   \n",
       "\n",
       "        Store_and_fwd_flag  RateCodeID  Pickup_longitude  Pickup_latitude  \\\n",
       "478080                   N           5        -73.871719        40.771744   \n",
       "516757                   N           1        -73.937775        40.800926   \n",
       "885097                   N           1        -73.958954        40.819847   \n",
       "944537                   N           1        -73.961609        40.805958   \n",
       "1077032                  N           1        -73.898193        40.749580   \n",
       "1282594                  N           5        -73.803436        40.677845   \n",
       "1321961                  N           1        -73.937164        40.804386   \n",
       "1416994                  N           1        -73.931129        40.693161   \n",
       "1432692                  N           3        -73.936172        40.685581   \n",
       "1457965                  N           5        -73.914627        40.871475   \n",
       "\n",
       "         Dropoff_longitude  Dropoff_latitude  Passenger_count     ...      \\\n",
       "478080          -76.121590         42.799343                1     ...       \n",
       "516757          -72.269753         40.928116                1     ...       \n",
       "885097          -72.258629         40.930805                1     ...       \n",
       "944537          -72.261024         41.917648                1     ...       \n",
       "1077032         -73.899033         40.746319                1     ...       \n",
       "1282594         -73.840210         40.719513                2     ...       \n",
       "1321961         -73.901382         40.819443                1     ...       \n",
       "1416994         -73.936172         40.685581                2     ...       \n",
       "1432692         -73.936172         40.685581                1     ...       \n",
       "1457965         -73.912315         40.872181                1     ...       \n",
       "\n",
       "         Fare_amount  Extra  MTA_tax  Tip_amount  Tolls_amount  Ehail_fee  \\\n",
       "478080        300.00    0.0      0.0       77.44          9.75        NaN   \n",
       "516757        316.00    1.0      0.5        0.00          0.00        NaN   \n",
       "885097        258.50    0.5      0.5        0.00          0.00        NaN   \n",
       "944537        342.50    0.0      0.5      102.95          0.00        NaN   \n",
       "1077032       271.50    0.0      0.5        0.00         15.29        NaN   \n",
       "1282594       180.00    0.0      0.5       18.08          0.00        NaN   \n",
       "1321961         1.25    0.5      0.5        0.00          0.00        NaN   \n",
       "1416994       389.00    0.0      0.5        0.00         41.08        NaN   \n",
       "1432692        20.00    1.0      0.0        6.35          0.00        NaN   \n",
       "1457965        18.00    0.0      0.0        0.00          0.00        NaN   \n",
       "\n",
       "         improvement_surcharge  Total_amount  Payment_type  Trip_type   \n",
       "478080                     0.0        387.19             1         2.0  \n",
       "516757                     0.3        317.80             2         1.0  \n",
       "885097                     0.3        259.80             2         1.0  \n",
       "944537                     0.3        446.25             1         1.0  \n",
       "1077032                    0.3        287.59             2         1.0  \n",
       "1282594                    0.3        198.88             1         1.0  \n",
       "1321961                    0.3          2.55             2         1.0  \n",
       "1416994                    0.3        430.88             1         1.0  \n",
       "1432692                    0.3         27.65             1         1.0  \n",
       "1457965                    0.3         18.30             2         1.0  \n",
       "\n",
       "[10 rows x 21 columns]"
      ]
     },
     "execution_count": 10,
     "metadata": {},
     "output_type": "execute_result"
    }
   ],
   "source": [
    "df[df['Trip_distance'] > 100]"
   ]
  },
  {
   "cell_type": "code",
   "execution_count": 11,
   "metadata": {},
   "outputs": [
    {
     "name": "stdout",
     "output_type": "stream",
     "text": [
      "The number of zero trip distance is: 0\n",
      "The percentage of zero trip distance is: 0.0\n"
     ]
    }
   ],
   "source": [
    "print (\"The number of zero trip distance is:\", df[df['Trip_distance'] == 0].shape[0])\n",
    "print (\"The percentage of zero trip distance is:\", df[df['Trip_distance'] == 0].shape[0] * 100.0/df.shape[0])"
   ]
  },
  {
   "cell_type": "markdown",
   "metadata": {},
   "source": [
    "This corresponds to about 1.23% of the total data. Let us play around with the data so we have some general idea about the data and how to clean and format the data. After playing around for quite a while (details skipped here), Let us do some cleaning and formatting work. \n",
    "    ### Cleaning and formatting data"
   ]
  },
  {
   "cell_type": "code",
   "execution_count": 12,
   "metadata": {},
   "outputs": [
    {
     "data": {
      "text/plain": [
       "VendorID                          int64\n",
       "lpep_pickup_datetime     datetime64[ns]\n",
       "Lpep_dropoff_datetime    datetime64[ns]\n",
       "Store_and_fwd_flag               object\n",
       "RateCodeID                        int64\n",
       "Pickup_longitude                float64\n",
       "Pickup_latitude                 float64\n",
       "Dropoff_longitude               float64\n",
       "Dropoff_latitude                float64\n",
       "Passenger_count                   int64\n",
       "Trip_distance                   float64\n",
       "Fare_amount                     float64\n",
       "Extra                           float64\n",
       "MTA_tax                         float64\n",
       "Tip_amount                      float64\n",
       "Tolls_amount                    float64\n",
       "Ehail_fee                       float64\n",
       "improvement_surcharge           float64\n",
       "Total_amount                    float64\n",
       "Payment_type                      int64\n",
       "Trip_type                       float64\n",
       "dtype: object"
      ]
     },
     "execution_count": 12,
     "metadata": {},
     "output_type": "execute_result"
    }
   ],
   "source": [
    "datetime_cols = df.columns[1:3]\n",
    "format_dt = \"%Y-%m-%dT%H:%M:%S\"\n",
    "for col in datetime_cols:\n",
    "    df[col] = pd.to_datetime(df[col], format = format_dt)\n",
    "df.dtypes"
   ]
  },
  {
   "cell_type": "markdown",
   "metadata": {},
   "source": [
    "From the log file, it seems that we only deleted or changed a very small amount of data. The data is relatively clean. \n",
    "\n",
    "## Question 3.1\n",
    "\n",
    "### Report mean and median trip distance grouped by hour of day.\n",
    "\n",
    "Next we will create a new column hour based on pickup time. Then we can do some aggregation like mean and median distance by hour. "
   ]
  },
  {
   "cell_type": "code",
   "execution_count": 13,
   "metadata": {},
   "outputs": [],
   "source": [
    "# apply: apply a function to list elements\n",
    "# lambda function: python \n",
    "\n",
    "df['hour'] = df['lpep_pickup_datetime'].apply(lambda x: x.hour)"
   ]
  },
  {
   "cell_type": "code",
   "execution_count": 14,
   "metadata": {},
   "outputs": [
    {
     "data": {
      "text/html": [
       "<div>\n",
       "<style>\n",
       "    .dataframe thead tr:only-child th {\n",
       "        text-align: right;\n",
       "    }\n",
       "\n",
       "    .dataframe thead th {\n",
       "        text-align: left;\n",
       "    }\n",
       "\n",
       "    .dataframe tbody tr th {\n",
       "        vertical-align: top;\n",
       "    }\n",
       "</style>\n",
       "<table border=\"1\" class=\"dataframe\">\n",
       "  <thead>\n",
       "    <tr style=\"text-align: right;\">\n",
       "      <th></th>\n",
       "      <th>lpep_pickup_datetime</th>\n",
       "      <th>hour</th>\n",
       "    </tr>\n",
       "  </thead>\n",
       "  <tbody>\n",
       "    <tr>\n",
       "      <th>142925</th>\n",
       "      <td>2015-09-04 08:15:35</td>\n",
       "      <td>8</td>\n",
       "    </tr>\n",
       "    <tr>\n",
       "      <th>893148</th>\n",
       "      <td>2015-09-18 22:57:11</td>\n",
       "      <td>22</td>\n",
       "    </tr>\n",
       "    <tr>\n",
       "      <th>1077938</th>\n",
       "      <td>2015-09-22 10:35:14</td>\n",
       "      <td>10</td>\n",
       "    </tr>\n",
       "    <tr>\n",
       "      <th>847849</th>\n",
       "      <td>2015-09-18 06:48:53</td>\n",
       "      <td>6</td>\n",
       "    </tr>\n",
       "    <tr>\n",
       "      <th>1380408</th>\n",
       "      <td>2015-09-28 13:26:41</td>\n",
       "      <td>13</td>\n",
       "    </tr>\n",
       "    <tr>\n",
       "      <th>859919</th>\n",
       "      <td>2015-09-18 12:41:00</td>\n",
       "      <td>12</td>\n",
       "    </tr>\n",
       "    <tr>\n",
       "      <th>287404</th>\n",
       "      <td>2015-09-06 19:00:32</td>\n",
       "      <td>19</td>\n",
       "    </tr>\n",
       "    <tr>\n",
       "      <th>1036445</th>\n",
       "      <td>2015-09-21 10:11:32</td>\n",
       "      <td>10</td>\n",
       "    </tr>\n",
       "    <tr>\n",
       "      <th>53151</th>\n",
       "      <td>2015-09-02 10:17:23</td>\n",
       "      <td>10</td>\n",
       "    </tr>\n",
       "    <tr>\n",
       "      <th>751094</th>\n",
       "      <td>2015-09-16 08:03:12</td>\n",
       "      <td>8</td>\n",
       "    </tr>\n",
       "  </tbody>\n",
       "</table>\n",
       "</div>"
      ],
      "text/plain": [
       "        lpep_pickup_datetime  hour\n",
       "142925   2015-09-04 08:15:35     8\n",
       "893148   2015-09-18 22:57:11    22\n",
       "1077938  2015-09-22 10:35:14    10\n",
       "847849   2015-09-18 06:48:53     6\n",
       "1380408  2015-09-28 13:26:41    13\n",
       "859919   2015-09-18 12:41:00    12\n",
       "287404   2015-09-06 19:00:32    19\n",
       "1036445  2015-09-21 10:11:32    10\n",
       "53151    2015-09-02 10:17:23    10\n",
       "751094   2015-09-16 08:03:12     8"
      ]
     },
     "execution_count": 14,
     "metadata": {},
     "output_type": "execute_result"
    }
   ],
   "source": [
    "df[['lpep_pickup_datetime','hour']].sample(10)"
   ]
  },
  {
   "cell_type": "code",
   "execution_count": 15,
   "metadata": {},
   "outputs": [],
   "source": [
    "#numpy"
   ]
  },
  {
   "cell_type": "code",
   "execution_count": 16,
   "metadata": {},
   "outputs": [
    {
     "data": {
      "text/html": [
       "<div>\n",
       "<style>\n",
       "    .dataframe thead tr:only-child th {\n",
       "        text-align: right;\n",
       "    }\n",
       "\n",
       "    .dataframe thead th {\n",
       "        text-align: left;\n",
       "    }\n",
       "\n",
       "    .dataframe tbody tr th {\n",
       "        vertical-align: top;\n",
       "    }\n",
       "</style>\n",
       "<table border=\"1\" class=\"dataframe\">\n",
       "  <thead>\n",
       "    <tr style=\"text-align: right;\">\n",
       "      <th></th>\n",
       "      <th>mean</th>\n",
       "      <th>median</th>\n",
       "    </tr>\n",
       "    <tr>\n",
       "      <th>hour</th>\n",
       "      <th></th>\n",
       "      <th></th>\n",
       "    </tr>\n",
       "  </thead>\n",
       "  <tbody>\n",
       "    <tr>\n",
       "      <th>0</th>\n",
       "      <td>3.150602</td>\n",
       "      <td>2.23</td>\n",
       "    </tr>\n",
       "    <tr>\n",
       "      <th>1</th>\n",
       "      <td>3.054612</td>\n",
       "      <td>2.16</td>\n",
       "    </tr>\n",
       "    <tr>\n",
       "      <th>2</th>\n",
       "      <td>3.091807</td>\n",
       "      <td>2.19</td>\n",
       "    </tr>\n",
       "    <tr>\n",
       "      <th>3</th>\n",
       "      <td>3.261706</td>\n",
       "      <td>2.26</td>\n",
       "    </tr>\n",
       "    <tr>\n",
       "      <th>4</th>\n",
       "      <td>3.584065</td>\n",
       "      <td>2.40</td>\n",
       "    </tr>\n",
       "    <tr>\n",
       "      <th>5</th>\n",
       "      <td>4.214483</td>\n",
       "      <td>2.98</td>\n",
       "    </tr>\n",
       "    <tr>\n",
       "      <th>6</th>\n",
       "      <td>4.134494</td>\n",
       "      <td>2.90</td>\n",
       "    </tr>\n",
       "    <tr>\n",
       "      <th>7</th>\n",
       "      <td>3.330973</td>\n",
       "      <td>2.20</td>\n",
       "    </tr>\n",
       "    <tr>\n",
       "      <th>8</th>\n",
       "      <td>3.088413</td>\n",
       "      <td>2.00</td>\n",
       "    </tr>\n",
       "    <tr>\n",
       "      <th>9</th>\n",
       "      <td>3.042416</td>\n",
       "      <td>2.00</td>\n",
       "    </tr>\n",
       "    <tr>\n",
       "      <th>10</th>\n",
       "      <td>2.991911</td>\n",
       "      <td>1.97</td>\n",
       "    </tr>\n",
       "    <tr>\n",
       "      <th>11</th>\n",
       "      <td>2.962246</td>\n",
       "      <td>1.90</td>\n",
       "    </tr>\n",
       "    <tr>\n",
       "      <th>12</th>\n",
       "      <td>2.953734</td>\n",
       "      <td>1.91</td>\n",
       "    </tr>\n",
       "    <tr>\n",
       "      <th>13</th>\n",
       "      <td>2.929103</td>\n",
       "      <td>1.89</td>\n",
       "    </tr>\n",
       "    <tr>\n",
       "      <th>14</th>\n",
       "      <td>2.913916</td>\n",
       "      <td>1.87</td>\n",
       "    </tr>\n",
       "    <tr>\n",
       "      <th>15</th>\n",
       "      <td>2.905159</td>\n",
       "      <td>1.86</td>\n",
       "    </tr>\n",
       "    <tr>\n",
       "      <th>16</th>\n",
       "      <td>2.823620</td>\n",
       "      <td>1.83</td>\n",
       "    </tr>\n",
       "    <tr>\n",
       "      <th>17</th>\n",
       "      <td>2.713986</td>\n",
       "      <td>1.80</td>\n",
       "    </tr>\n",
       "    <tr>\n",
       "      <th>18</th>\n",
       "      <td>2.687323</td>\n",
       "      <td>1.81</td>\n",
       "    </tr>\n",
       "    <tr>\n",
       "      <th>19</th>\n",
       "      <td>2.745756</td>\n",
       "      <td>1.88</td>\n",
       "    </tr>\n",
       "    <tr>\n",
       "      <th>20</th>\n",
       "      <td>2.809233</td>\n",
       "      <td>1.92</td>\n",
       "    </tr>\n",
       "    <tr>\n",
       "      <th>21</th>\n",
       "      <td>3.032618</td>\n",
       "      <td>2.07</td>\n",
       "    </tr>\n",
       "    <tr>\n",
       "      <th>22</th>\n",
       "      <td>3.221524</td>\n",
       "      <td>2.21</td>\n",
       "    </tr>\n",
       "    <tr>\n",
       "      <th>23</th>\n",
       "      <td>3.227005</td>\n",
       "      <td>2.26</td>\n",
       "    </tr>\n",
       "  </tbody>\n",
       "</table>\n",
       "</div>"
      ],
      "text/plain": [
       "          mean  median\n",
       "hour                  \n",
       "0     3.150602    2.23\n",
       "1     3.054612    2.16\n",
       "2     3.091807    2.19\n",
       "3     3.261706    2.26\n",
       "4     3.584065    2.40\n",
       "5     4.214483    2.98\n",
       "6     4.134494    2.90\n",
       "7     3.330973    2.20\n",
       "8     3.088413    2.00\n",
       "9     3.042416    2.00\n",
       "10    2.991911    1.97\n",
       "11    2.962246    1.90\n",
       "12    2.953734    1.91\n",
       "13    2.929103    1.89\n",
       "14    2.913916    1.87\n",
       "15    2.905159    1.86\n",
       "16    2.823620    1.83\n",
       "17    2.713986    1.80\n",
       "18    2.687323    1.81\n",
       "19    2.745756    1.88\n",
       "20    2.809233    1.92\n",
       "21    3.032618    2.07\n",
       "22    3.221524    2.21\n",
       "23    3.227005    2.26"
      ]
     },
     "execution_count": 16,
     "metadata": {},
     "output_type": "execute_result"
    }
   ],
   "source": [
    "distance_by_hour = df.groupby('hour')['Trip_distance'].agg([np.mean, np.median])  # consistent conclusion\n",
    "distance_by_hour"
   ]
  },
  {
   "cell_type": "markdown",
   "metadata": {},
   "source": [
    "To visually observe the trend, let us plot the median and mean average distance as the function of hour of the day."
   ]
  },
  {
   "cell_type": "code",
   "execution_count": 17,
   "metadata": {},
   "outputs": [],
   "source": [
    "import os\n",
    "if not os.path.exists(\"figs\"):\n",
    "    os.makedirs(\"figs\")"
   ]
  },
  {
   "cell_type": "code",
   "execution_count": 18,
   "metadata": {},
   "outputs": [
    {
     "data": {
      "image/png": "[encoded data removed]",
      "text/plain": [
       "<matplotlib.figure.Figure at 0xabd4ac8>"
      ]
     },
     "metadata": {},
     "output_type": "display_data"
    }
   ],
   "source": [
    "plt.scatter(range(24), distance_by_hour[\"mean\"], c ='r',label = \"mean distance!!\", marker=\"*\") #  Ctrl + / to comment/uncomment\n",
    "plt.scatter(range(24), distance_by_hour['median'],c ='b',label = \"median distance\")\n",
    "plt.plot(distance_by_hour['mean'],c ='r',label = \"\")\n",
    "plt.plot(distance_by_hour['median'],c ='b',label = \"\")\n",
    "legend = plt.legend(loc='upper right', fontsize='large')\n",
    "plt.axis([-1, 24, 1.5, 4.5])\n",
    "plt.xlabel('hour of the day', fontsize = 18, color =\"b\")\n",
    "plt.ylabel('Trip distance in miles', fontsize = 18, color = \"y\")\n",
    "plt.savefig(\"figs/by_hour_distance.png\", dpi = 100)\n",
    "plt.show()"
   ]
  },
  {
   "cell_type": "markdown",
   "metadata": {},
   "source": [
    "From this figure, it seems there is a peak of the average/median travel distance before the morning rushing hour.\n"
   ]
  },
  {
   "cell_type": "markdown",
   "metadata": {},
   "source": [
    "After reading the fare rules, it seems the taxi will charge a flat rate for this trip. Let us verify it."
   ]
  },
  {
   "cell_type": "markdown",
   "metadata": {},
   "source": [
    "### LGA airport traffic"
   ]
  },
  {
   "cell_type": "code",
   "execution_count": 19,
   "metadata": {},
   "outputs": [
    {
     "name": "stdout",
     "output_type": "stream",
     "text": [
      "LGA airport green taxi traffic:\n",
      "Terminal A :   Picking up 9  times  Dropping off 606  times\n",
      "Dropoff mean fare is:  26.39  dollars. The dropoff mean distance is:  6.08  miles\n",
      "Pickup mean fare is:  18.26  dollars. The pickup mean distance is:  8.14  miles\n",
      "\n",
      "Terminal B :   Picking up 71  times  Dropping off 11328  times\n",
      "Dropoff mean fare is:  25.51  dollars. The dropoff mean distance is:  6.14  miles\n",
      "Pickup mean fare is:  32.93  dollars. The pickup mean distance is:  8.41  miles\n",
      "\n",
      "Terminal C :   Picking up 69  times  Dropping off 5453  times\n",
      "Dropoff mean fare is:  28.38  dollars. The dropoff mean distance is:  6.89  miles\n",
      "Pickup mean fare is:  25.28  dollars. The pickup mean distance is:  7.15  miles\n",
      "\n",
      "Terminal D :   Picking up 21  times  Dropping off 3161  times\n",
      "Dropoff mean fare is:  28.12  dollars. The dropoff mean distance is:  6.82  miles\n",
      "Pickup mean fare is:  36.05  dollars. The pickup mean distance is:  6.87  miles\n",
      "\n",
      "LGA taxi traffic average distance is:  6.45  miles\n",
      "LGA taxi traffic average fare is:  26.72  dollars\n"
     ]
    },
    {
     "data": {
      "image/png": "[encoded data removed]",
      "text/plain": [
       "<matplotlib.figure.Figure at 0xbf7a6a0>"
      ]
     },
     "metadata": {},
     "output_type": "display_data"
    }
   ],
   "source": [
    "LGA_taxi = pd.DataFrame()\n",
    "terminals = [\"A\", \"B\", \"C\", \"D\"]\n",
    "colors = [\"red\",'blue','green','yellow']\n",
    "LGA = [[40.772562, -73.885640], [40.773893, -73.872204],[40.769722, -73.864659],[40.768702, -73.862036]]  #LGA terminal coordinates\n",
    "plt.figure(figsize=(10,7))\n",
    "plt.scatter(df['Dropoff_longitude'], df['Dropoff_latitude'],marker = '.')\n",
    "print( \"LGA airport green taxi traffic:\")\n",
    "for i in range(len(LGA)):\n",
    "    temp1 = df[(abs(df[\"Pickup_latitude\"] - LGA[i][0]) < 0.003) & (abs(df[\"Pickup_longitude\"] - LGA[i][1]) < 0.002)]\n",
    "    temp2 = df[(abs(df[\"Dropoff_latitude\"] - LGA[i][0]) < 0.003) & (abs(df[\"Dropoff_longitude\"] - LGA[i][1]) < 0.002)]\n",
    "    LGA_taxi = LGA_taxi.append(temp1)\n",
    "    LGA_taxi = LGA_taxi.append(temp2)\n",
    "    plt.scatter(temp2['Dropoff_longitude'], temp2['Dropoff_latitude'], color =colors[i],marker =\".\")\n",
    "    print (\"Terminal\", terminals[i], \":   Picking up\", temp1.shape[0], \" times\",\" Dropping off\", temp2.shape[0], \" times\" )\n",
    "    print (\"Dropoff mean fare is: \", \"{0:.2f}\".format(np.mean(temp2['Total_amount'])), \" dollars. The dropoff mean distance is: \",\\\n",
    "          \"{0:.2f}\".format(np.mean(temp2['Trip_distance'])), \" miles\")\n",
    "    print (\"Pickup mean fare is: \", \"{0:.2f}\".format(np.mean(temp1['Total_amount'])), \" dollars. The pickup mean distance is: \",\\\n",
    "          \"{0:.2f}\".format(np.mean(temp1['Trip_distance'])), \" miles\")\n",
    "    print ()\n",
    "\n",
    "LGA_count = LGA_taxi.shape[0]\n",
    "LGA_avg_distance = np.mean(LGA_taxi['Trip_distance'])\n",
    "LGA_avg_fare = np.mean(LGA_taxi['Total_amount'])\n",
    "\n",
    "print (\"LGA taxi traffic average distance is: \",\"{0:.2f}\".format(LGA_avg_distance), \" miles\")\n",
    "print (\"LGA taxi traffic average fare is: \", \"{0:.2f}\".format(LGA_avg_fare), \" dollars\")\n",
    "plt.xlim(-73.890, -73.858)\n",
    "plt.ylim(40.766, 40.776)\n",
    "plt.xlabel('Longitude near LGA airport')\n",
    "plt.ylabel('Latitude near LGA airport')\n",
    "plt.title(\"Green Taxi traffic near LGA airport\")\n",
    "plt.savefig(\"figs/LGA.png\", dpi = 100)"
   ]
  },
  {
   "cell_type": "markdown",
   "metadata": {},
   "source": [
    "The above figure is a plot of LGA airport traffic map. Four terminals we identified are marked with different colors. There is no overlap when I count the traffic.\n",
    "\n",
    "Next, we do the same thing for JFK airport. Because JFK airport is farther away from the city, we do not need to break into terminals to get the traffic."
   ]
  },
  {
   "cell_type": "markdown",
   "metadata": {},
   "source": [
    "### JFK airport traffic"
   ]
  },
  {
   "cell_type": "code",
   "execution_count": 20,
   "metadata": {},
   "outputs": [
    {
     "name": "stdout",
     "output_type": "stream",
     "text": [
      "JFK total taxi traffic is:  12771  times in September 2015\n",
      "JFK taxi traffic average distance is:  13.95  miles\n",
      "JFK taxi traffic average fare is:  48.67  dollars\n"
     ]
    }
   ],
   "source": [
    "JFK = [40.646, -73.784]  #JFK terminal coordinates\n",
    "Pickup_at_JFK = df[(abs(df[\"Pickup_latitude\"] - JFK[0]) < 0.008) & (abs(df[\"Pickup_longitude\"] - JFK[1]) < 0.01)]\n",
    "Dropoff_at_JFK = df[(abs(df[\"Dropoff_latitude\"] - JFK[0]) < 0.008) & (abs(df[\"Dropoff_longitude\"] - JFK[1]) < 0.01)]\n",
    "JFK_taxi = Pickup_at_JFK.append(Dropoff_at_JFK)\n",
    "JFK_count = JFK_taxi.shape[0]\n",
    "JFK_avg_distance = np.mean(JFK_taxi['Trip_distance'])\n",
    "JFK_avg_fare = np.mean(JFK_taxi['Total_amount'])\n",
    "print (\"JFK total taxi traffic is: \", JFK_count, \" times in September 2015\")\n",
    "print( \"JFK taxi traffic average distance is: \",\"{0:.2f}\".format(JFK_avg_distance), \" miles\")\n",
    "print( \"JFK taxi traffic average fare is: \", \"{0:.2f}\".format(JFK_avg_fare), \" dollars\")"
   ]
  },
  {
   "cell_type": "markdown",
   "metadata": {},
   "source": [
    "To compare airport taxi data with general city data. Let us find the general NYC taxi metric."
   ]
  },
  {
   "cell_type": "code",
   "execution_count": 21,
   "metadata": {},
   "outputs": [],
   "source": [
    "NYC_count = df.shape[0]\n",
    "NYC_avg_distance = np.mean(df['Trip_distance'])\n",
    "NYC_avg_fare = np.mean(df['Total_amount'])"
   ]
  },
  {
   "cell_type": "markdown",
   "metadata": {},
   "source": [
    "Let us make some pretty bar plots to compare the fares among JFK, LGA and general city traffic."
   ]
  },
  {
   "cell_type": "code",
   "execution_count": 22,
   "metadata": {},
   "outputs": [
    {
     "data": {
      "image/png": "[encoded data removed]",
      "text/plain": [
       "<matplotlib.figure.Figure at 0xabdffd0>"
      ]
     },
     "metadata": {},
     "output_type": "display_data"
    }
   ],
   "source": [
    "index = np.arange(3)\n",
    "bar_width = 0.7\n",
    "opacity = 0.5\n",
    "rects1 = plt.bar(range(3), (JFK_avg_fare,LGA_avg_fare,NYC_avg_fare), bar_width, alpha=opacity, color='r', label='Average fare')\n",
    "plt.ylabel('Average Fare in dollars')\n",
    "plt.title('Average Fare Comparison among JFK, LGA and NYC')\n",
    "plt.xticks(index + 0.5* bar_width, ('JFK', 'LGA', 'NYC'))\n",
    "plt.legend()\n",
    "plt.tight_layout()\n",
    "plt.savefig(\"figs/average_fare.png\")\n",
    "plt.show()"
   ]
  },
  {
   "cell_type": "markdown",
   "metadata": {},
   "source": [
    "Some general statistic about airport taxi traffic:"
   ]
  },
  {
   "cell_type": "code",
   "execution_count": 23,
   "metadata": {},
   "outputs": [
    {
     "name": "stdout",
     "output_type": "stream",
     "text": [
      "JFK total taxi traffic is:  12771 average fare is:  48.67 dollars, the average distance is: 13.95 miles\n",
      "LGA total taxi traffic is:  20718 average fare is:  26.72 dollars, the average distance is: 6.45  miles\n",
      "The total NYC traffic is: 1474334 average fare is:  15.02 dollars, the average distance is: 3.01  miles\n"
     ]
    }
   ],
   "source": [
    "print (\"JFK total taxi traffic is: \", JFK_count, \"average fare is: \", \\\n",
    "      \"{0:.2f}\".format(JFK_avg_fare), \"dollars,\", \"the average distance is:\", \"{0:.2f}\".format(JFK_avg_distance), \"miles\"\n",
    ")\n",
    "print (\"LGA total taxi traffic is: \", LGA_count, \"average fare is: \", \\\n",
    "      \"{0:.2f}\".format(LGA_avg_fare), \"dollars,\", \"the average distance is:\", \"{0:.2f}\".format(LGA_avg_distance), \" miles\")\n",
    "print (\"The total NYC traffic is:\", NYC_count, \"average fare is: \", \\\n",
    "      \"{0:.2f}\".format(NYC_avg_fare), \"dollars,\", \"the average distance is:\", \"{0:.2f}\".format(NYC_avg_distance), \" miles\")"
   ]
  },
  {
   "cell_type": "markdown",
   "metadata": {},
   "source": [
    "The following is a traffic map near JFK. Terminals are easy to identify and well seperated from city traffic."
   ]
  },
  {
   "cell_type": "code",
   "execution_count": 24,
   "metadata": {},
   "outputs": [
    {
     "data": {
      "image/png": "[encoded data removed]",
      "text/plain": [
       "<matplotlib.figure.Figure at 0xac19240>"
      ]
     },
     "metadata": {},
     "output_type": "display_data"
    }
   ],
   "source": [
    "plt.figure(figsize=(10,7))\n",
    "plt.scatter(df['Dropoff_longitude'], df['Dropoff_latitude'], color = 'blue',marker='.')\n",
    "plt.xlim(-73.794,-73.774)\n",
    "plt.ylim(40.64,40.651)\n",
    "plt.xlabel('Longitude near JFK airport', fontsize =16)\n",
    "plt.ylabel('Latitude near JFK airport', fontsize =16)\n",
    "plt.title(\"Green Taxi traffic near JFK airport\", fontsize =16)\n",
    "plt.savefig(\"figs/JFK.png\",dpi = 100)\n",
    "# several terminals are clearly to be seen from this plot."
   ]
  },
  {
   "cell_type": "markdown",
   "metadata": {},
   "source": [
    "### Summary about airport traffic:\n",
    "\n",
    "There are 13 times more chance of dropping off than pickup for airport taxi trips. This is because green taxies are not allowed to pick up passgeners at airports unless it is prearranged. LGA has a heavier traffic than JFK maybe becuase there is direct metro-rail to JFK. JFK trips are longer and more expensive."
   ]
  },
  {
   "cell_type": "markdown",
   "metadata": {},
   "source": [
    "## Question 4\n",
    "\n",
    "### 4A: Build a derived variable for tip as a percentage of the total fare."
   ]
  },
  {
   "cell_type": "markdown",
   "metadata": {},
   "source": [
    "Next we will create a column \"Tip percentage\" which is the percentage of tip amount in total amount (including tip). For example, if the total fare is 100 dollars (including the tip) and the tip is 20 dollars. This percentage will give you 20."
   ]
  },
  {
   "cell_type": "code",
   "execution_count": 25,
   "metadata": {},
   "outputs": [
    {
     "data": {
      "text/plain": [
       "Index(['VendorID', 'lpep_pickup_datetime', 'Lpep_dropoff_datetime',\n",
       "       'Store_and_fwd_flag', 'RateCodeID', 'Pickup_longitude',\n",
       "       'Pickup_latitude', 'Dropoff_longitude', 'Dropoff_latitude',\n",
       "       'Passenger_count', 'Trip_distance', 'Fare_amount', 'Extra', 'MTA_tax',\n",
       "       'Tip_amount', 'Tolls_amount', 'Ehail_fee', 'improvement_surcharge',\n",
       "       'Total_amount', 'Payment_type', 'Trip_type ', 'hour'],\n",
       "      dtype='object')"
      ]
     },
     "execution_count": 25,
     "metadata": {},
     "output_type": "execute_result"
    }
   ],
   "source": [
    "df.columns"
   ]
  },
  {
   "cell_type": "code",
   "execution_count": 26,
   "metadata": {},
   "outputs": [],
   "source": [
    "df['total_without_tip'] = df['Total_amount'] - df['Tip_amount']\n",
    "df['Tip_percentage'] = df['Tip_amount'] * 100 /df['total_without_tip']"
   ]
  },
  {
   "cell_type": "code",
   "execution_count": 27,
   "metadata": {},
   "outputs": [
    {
     "data": {
      "text/plain": [
       "1346233    10.638298\n",
       "226491      0.000000\n",
       "380071      0.000000\n",
       "888169      0.000000\n",
       "1329846     0.000000\n",
       "876576      0.000000\n",
       "645486     20.325203\n",
       "59085      12.875536\n",
       "520744      0.000000\n",
       "1488856     0.000000\n",
       "Name: Tip_percentage, dtype: float64"
      ]
     },
     "execution_count": 27,
     "metadata": {},
     "output_type": "execute_result"
    }
   ],
   "source": [
    "df['Tip_percentage'].sample(10)"
   ]
  },
  {
   "cell_type": "code",
   "execution_count": 28,
   "metadata": {},
   "outputs": [
    {
     "data": {
      "image/png": "[encoded data removed]",
      "text/plain": [
       "<matplotlib.figure.Figure at 0xac19828>"
      ]
     },
     "metadata": {},
     "output_type": "display_data"
    }
   ],
   "source": [
    "import matplotlib.pyplot as plt\n",
    "temp = df['Tip_percentage'].dropna()\n",
    "temp = temp[temp < 40]\n",
    "plt.hist(temp, bins = 200)\n",
    "plt.xlabel('tip percentage', fontsize =18)\n",
    "plt.ylabel('Probability',fontsize =18)\n",
    "plt.title('Trip Distance Histogram Plot',fontsize =18)\n",
    "plt.axis([0, 40, 0, 200000])\n",
    "plt.grid(True)\n",
    "plt.savefig(\"figs/histogram_tip.png\",dpi=100)\n",
    "plt.show()\n",
    "del temp"
   ]
  },
  {
   "cell_type": "code",
   "execution_count": 29,
   "metadata": {},
   "outputs": [
    {
     "name": "stdout",
     "output_type": "stream",
     "text": [
      "The total number of records is: 1474334\n",
      "The total number of zero tip is: 875833\n",
      "The percentage of tip that is zero is:  59.41%\n"
     ]
    }
   ],
   "source": [
    "print (\"The total number of records is:\", df.shape[0])\n",
    "print (\"The total number of zero tip is:\", df[df['Tip_amount'] == 0.0].shape[0])\n",
    "ratio = df[df['Tip_amount'] == 0.0].shape[0]/(0.0 + df.shape[0])\n",
    "print (\"The percentage of tip that is zero is: \", \"{0:.2f}%\".format(ratio * 100))"
   ]
  },
  {
   "cell_type": "markdown",
   "metadata": {},
   "source": [
    "Our naive guess will be cash payers paied tips by cash and drivers did not report it. Is that true?"
   ]
  },
  {
   "cell_type": "code",
   "execution_count": 30,
   "metadata": {},
   "outputs": [
    {
     "name": "stdout",
     "output_type": "stream",
     "text": [
      "The breakdown of the trips by payment codes:\n",
      "When the payment code is  Cash          ,    the number of zero tip is:  773282 . The number of non-zero tip is:  2\n",
      "When the payment code is  credit card   ,    the number of zero tip is:   94045 . The number of non-zero tip is:  598493\n",
      "When the payment code is  Disputed Trip ,    the number of zero tip is:    4030 . The number of non-zero tip is:  2\n",
      "When the payment code is  No charge     ,    the number of zero tip is:    4414 . The number of non-zero tip is:  4\n",
      "When the payment code is  Unknown       ,    the number of zero tip is:      62 . The number of non-zero tip is:  0\n"
     ]
    }
   ],
   "source": [
    "import collections\n",
    "tip0 = collections.Counter(df[df['Tip_amount'] == 0.0]['Payment_type'])\n",
    "tipnot0 = collections.Counter(df[df['Tip_amount'] != 0.0]['Payment_type'])\n",
    "name = {1: \"credit card\", 2: \"Cash\",3: \"No charge\",4: \"Disputed Trip\",5: \"Unknown\"}\n",
    "print (\"The breakdown of the trips by payment codes:\")\n",
    "for key in tip0:\n",
    "    print (\"When the payment code is \", \"{:13s}\".format(name[key]),',\\\n",
    "    the number of zero tip is: ', \"{:6d}\".format(tip0[key]),'. The number of non-zero tip is: ', tipnot0[key])"
   ]
  },
  {
   "cell_type": "markdown",
   "metadata": {},
   "source": [
    "So this is true. More than 99.9% cash payers either did not pay tips or the drivers did not report them. We also observe that there is a lot of zero-tip credit card transactions. How many are they?"
   ]
  },
  {
   "cell_type": "markdown",
   "metadata": {},
   "source": [
    "This means even for credit card payers, there are about 12.6% people who did not pay tips."
   ]
  },
  {
   "cell_type": "markdown",
   "metadata": {},
   "source": [
    "Before we build a model to predict the tip percentage, let us do a histogram plot on this tip percentage and see if there are any patterns."
   ]
  },
  {
   "cell_type": "code",
   "execution_count": 31,
   "metadata": {},
   "outputs": [
    {
     "data": {
      "image/png": "[encoded data removed]",
      "text/plain": [
       "<matplotlib.figure.Figure at 0x21b27278>"
      ]
     },
     "metadata": {},
     "output_type": "display_data"
    }
   ],
   "source": [
    "temp = df[df[\"Tip_percentage\"] < 100]['Tip_percentage']\n",
    "n, bins, patches = plt.hist(temp, 1000, normed=1, facecolor='green')\n",
    "plt.xlabel('Tip_percentage', fontsize =18)\n",
    "plt.ylabel('Probability', fontsize = 18)\n",
    "plt.axis([5, 40, 0, 2])\n",
    "plt.title(\"Tip percentage histogram\")\n",
    "plt.savefig(\"figs/tip_percentage.png\", dpi = 200)\n",
    "del temp"
   ]
  },
  {
   "cell_type": "markdown",
   "metadata": {},
   "source": [
    "Except the expected 0% tip percentage, we also noticed huge peaks of modes in 20% tip, 25% tip and 30% tip. Passengers can press one of three values when they pay the driver.\n",
    "\n",
    "Next question is: What is the relative likelihood that passengers would press one of these three ratios? Let us find it out."
   ]
  },
  {
   "cell_type": "code",
   "execution_count": 32,
   "metadata": {},
   "outputs": [
    {
     "name": "stdout",
     "output_type": "stream",
     "text": [
      "The total number of riders who payed tips are:  598501\n",
      "The total number of riders who payed 20% tips are:  308740\n",
      "The total number of riders who payed 25% tips are:  80828\n",
      "The total number of riders who payed 30% tips are:  39704\n",
      "The percentage of riders who used keypad to pay three three tips are:  71.72%\n"
     ]
    }
   ],
   "source": [
    "total = df[df['Tip_amount'] != 0].shape[0]\n",
    "tip20 = df[abs(df['Tip_percentage'] - 20.0) < 1].shape[0]  # 25% tip\n",
    "tip25 = df[abs(df['Tip_percentage'] - 25.0) < 1].shape[0]   # 20% tip\n",
    "tip30 = df[abs(df['Tip_percentage'] - 30.0) < 1].shape[0]  # 30% tip\n",
    "print (\"The total number of riders who payed tips are: \", total)\n",
    "print (\"The total number of riders who payed 20% tips are: \", tip20)\n",
    "print (\"The total number of riders who payed 25% tips are: \", tip25)\n",
    "print (\"The total number of riders who payed 30% tips are: \", tip30)\n",
    "print (\"The percentage of riders who used keypad to pay three three tips are: \",\"{0:.2f}%\".format((tip20 + tip25 + tip30) /(total / 100.0)))"
   ]
  },
  {
   "cell_type": "markdown",
   "metadata": {},
   "source": [
    "Therefore the ratios is roughly: 8:2:1 (20% : 25% : 30% tip), about 72% people who tip chose to use these three values.\n",
    "\n",
    "Are there any modes on the tip amount? Let us find it out."
   ]
  },
  {
   "cell_type": "code",
   "execution_count": 33,
   "metadata": {},
   "outputs": [
    {
     "data": {
      "image/png": "[encoded data removed]",
      "text/plain": [
       "<matplotlib.figure.Figure at 0x23abfe10>"
      ]
     },
     "metadata": {},
     "output_type": "display_data"
    }
   ],
   "source": [
    "x = df[df['Tip_amount'] < 10]['Tip_amount']\n",
    "n, bins, patches = plt.hist(x, 4000, normed=1, facecolor='green')\n",
    "plt.xlabel('tip amount', fontsize =16)\n",
    "plt.ylabel('Probability', fontsize = 16)\n",
    "plt.axis([0, 8, 0, 2])\n",
    "plt.grid(True)\n",
    "plt.savefig(\"figs/tip_dollar.png\",dpi =100)\n",
    "del x"
   ]
  },
  {
   "cell_type": "markdown",
   "metadata": {},
   "source": [
    "Notice there are clear peaks at 1, 2, 3, 4, 5, 6 dollars. How many are they?"
   ]
  },
  {
   "cell_type": "code",
   "execution_count": 34,
   "metadata": {},
   "outputs": [
    {
     "name": "stdout",
     "output_type": "stream",
     "text": [
      "The number of riders who paid 1 dollar as tip is:  48662\n",
      "The number of riders who paid 2 dollar as tip is:  40406\n",
      "The number of riders who paid 3 dollar as tip is:  16257\n",
      "The number of riders who paid 4 dollar as tip is:  7182\n",
      "The number of riders who paid 5 dollar as tip is:  8435\n"
     ]
    }
   ],
   "source": [
    "tip1 = df[df['Tip_amount'] == 1.0].shape[0]   # 1 dollar tip\n",
    "print (\"The number of riders who paid 1 dollar as tip is: \", tip1)\n",
    "tip2 = df[df['Tip_amount'] == 2.0].shape[0]   # 2 dollar tip\n",
    "print (\"The number of riders who paid 2 dollar as tip is: \", tip2)\n",
    "tip3 = df[df['Tip_amount'] == 3.0].shape[0]   # 3 dollar tip\n",
    "print (\"The number of riders who paid 3 dollar as tip is: \", tip3)\n",
    "tip4 = df[df['Tip_amount'] == 4.0].shape[0]   # 1 dollar tip\n",
    "print (\"The number of riders who paid 4 dollar as tip is: \", tip4)\n",
    "tip5 = df[df['Tip_amount'] == 5.0].shape[0]   # 2 dollar tip\n",
    "print (\"The number of riders who paid 5 dollar as tip is: \", tip5)"
   ]
  },
  {
   "cell_type": "markdown",
   "metadata": {},
   "source": [
    "What is the percentage of people who did this?"
   ]
  },
  {
   "cell_type": "code",
   "execution_count": 35,
   "metadata": {},
   "outputs": [
    {
     "name": "stdout",
     "output_type": "stream",
     "text": [
      "The percentage of riders who tip like this is:  20.21%\n"
     ]
    }
   ],
   "source": [
    "print (\"The percentage of riders who tip like this is: \",\"{0:.2f}%\".format((tip1 + tip2 + tip3 + tip4 + tip5) /(total / 100.0)))"
   ]
  },
  {
   "cell_type": "markdown",
   "metadata": {},
   "source": [
    "The general picture is: Drivers (>99%) did not report cash as their tips. 12.5% credit card papers either do not pay tips or the drivers took cash and did not report them. For the rest, 72% choose to press the button to pay 20%, 25% or 30% ( the ratio is roughly 8:2:1). Another 21% will pay a rounded dollar (1, 2, 3, 4, 5 or 6 dollars). The majority paid 1 or 2 dollars.  "
   ]
  },
  {
   "cell_type": "markdown",
   "metadata": {},
   "source": [
    "### Step 2: Feature engineering\n",
    "\n",
    "Since non-credit card transactions generally do not show tips. We can create a feature to show whether the transction is a credit card transaction."
   ]
  },
  {
   "cell_type": "markdown",
   "metadata": {},
   "source": [
    "Let us select features based on the correlation of the tip percentage with other features. Then we will choose the top 20 relavant features to build our models."
   ]
  },
  {
   "cell_type": "markdown",
   "metadata": {},
   "source": [
    "\n",
    "### Build a derived variable representing the average speed over the course of a trip."
   ]
  },
  {
   "cell_type": "markdown",
   "metadata": {},
   "source": [
    "First let us rebuild the data and calculate the average speed (in miles per hour) for each trip."
   ]
  },
  {
   "cell_type": "code",
   "execution_count": 36,
   "metadata": {},
   "outputs": [
    {
     "data": {
      "text/plain": [
       "Index(['VendorID', 'lpep_pickup_datetime', 'Lpep_dropoff_datetime',\n",
       "       'Store_and_fwd_flag', 'RateCodeID', 'Pickup_longitude',\n",
       "       'Pickup_latitude', 'Dropoff_longitude', 'Dropoff_latitude',\n",
       "       'Passenger_count', 'Trip_distance', 'Fare_amount', 'Extra', 'MTA_tax',\n",
       "       'Tip_amount', 'Tolls_amount', 'Ehail_fee', 'improvement_surcharge',\n",
       "       'Total_amount', 'Payment_type', 'Trip_type ', 'hour',\n",
       "       'total_without_tip', 'Tip_percentage'],\n",
       "      dtype='object')"
      ]
     },
     "execution_count": 36,
     "metadata": {},
     "output_type": "execute_result"
    }
   ],
   "source": [
    "df.columns"
   ]
  },
  {
   "cell_type": "code",
   "execution_count": 37,
   "metadata": {},
   "outputs": [],
   "source": [
    "df['trip_time_in_minutes'] = (df['Lpep_dropoff_datetime']- df['lpep_pickup_datetime']).apply(lambda x: x.total_seconds())/60\n",
    "df['speed'] = df['Trip_distance'] / (df['trip_time_in_minutes']/60.0)"
   ]
  },
  {
   "cell_type": "markdown",
   "metadata": {},
   "source": [
    "### Answer to question 5B and hypothesis:\n",
    "\n",
    "The p-value is much less than 0.05. This means the average speed in different weeks are different. we should reject our null hypyothesis. The weekly average speed is not the same.There are many reasons that may cause this. For example, There is a labor day long weekend in September and taxi traffic should be bigger. Other factors, like major sports events, weather conditions can also be a factor."
   ]
  },
  {
   "cell_type": "markdown",
   "metadata": {},
   "source": [
    "## Question 5C:\n",
    "### Can you build up a hypothesis of average trip speed as a function of time of day?\n",
    "\n",
    "### Answer:\n",
    "The average trip speed certainly depends on the time of the day. For example, during rush hours, we except a lower average speed. After dark, the average speed will increase and have a maximum before morning rush hour around 4am.\n",
    "\n",
    "Since we have all the data available, we can group by the all the trips by the hour then aggredate the median speed for each hour. Finally we can plot this average speed as function of hour of the day and see if our hypothesis is valid.\n"
   ]
  },
  {
   "cell_type": "code",
   "execution_count": 38,
   "metadata": {},
   "outputs": [],
   "source": [
    "df2 = df[df['speed'] < 100]  # filter NA, 3mi/0hr, 0.1mi/0,001hr"
   ]
  },
  {
   "cell_type": "code",
   "execution_count": 39,
   "metadata": {
    "scrolled": true
   },
   "outputs": [
    {
     "data": {
      "text/html": [
       "<div>\n",
       "<style>\n",
       "    .dataframe thead tr:only-child th {\n",
       "        text-align: right;\n",
       "    }\n",
       "\n",
       "    .dataframe thead th {\n",
       "        text-align: left;\n",
       "    }\n",
       "\n",
       "    .dataframe tbody tr th {\n",
       "        vertical-align: top;\n",
       "    }\n",
       "</style>\n",
       "<table border=\"1\" class=\"dataframe\">\n",
       "  <thead>\n",
       "    <tr style=\"text-align: right;\">\n",
       "      <th></th>\n",
       "      <th>mean</th>\n",
       "      <th>median</th>\n",
       "    </tr>\n",
       "    <tr>\n",
       "      <th>hour</th>\n",
       "      <th></th>\n",
       "      <th></th>\n",
       "    </tr>\n",
       "  </thead>\n",
       "  <tbody>\n",
       "    <tr>\n",
       "      <th>0</th>\n",
       "      <td>14.705745</td>\n",
       "      <td>13.426630</td>\n",
       "    </tr>\n",
       "    <tr>\n",
       "      <th>1</th>\n",
       "      <td>14.962171</td>\n",
       "      <td>13.739290</td>\n",
       "    </tr>\n",
       "    <tr>\n",
       "      <th>2</th>\n",
       "      <td>15.203420</td>\n",
       "      <td>13.980583</td>\n",
       "    </tr>\n",
       "    <tr>\n",
       "      <th>3</th>\n",
       "      <td>15.593803</td>\n",
       "      <td>14.235877</td>\n",
       "    </tr>\n",
       "    <tr>\n",
       "      <th>4</th>\n",
       "      <td>16.410222</td>\n",
       "      <td>14.676762</td>\n",
       "    </tr>\n",
       "    <tr>\n",
       "      <th>5</th>\n",
       "      <td>18.242751</td>\n",
       "      <td>16.224215</td>\n",
       "    </tr>\n",
       "    <tr>\n",
       "      <th>6</th>\n",
       "      <td>17.273457</td>\n",
       "      <td>15.359177</td>\n",
       "    </tr>\n",
       "    <tr>\n",
       "      <th>7</th>\n",
       "      <td>13.607806</td>\n",
       "      <td>12.076433</td>\n",
       "    </tr>\n",
       "    <tr>\n",
       "      <th>8</th>\n",
       "      <td>12.401777</td>\n",
       "      <td>11.052632</td>\n",
       "    </tr>\n",
       "    <tr>\n",
       "      <th>9</th>\n",
       "      <td>12.676055</td>\n",
       "      <td>11.356273</td>\n",
       "    </tr>\n",
       "  </tbody>\n",
       "</table>\n",
       "</div>"
      ],
      "text/plain": [
       "           mean     median\n",
       "hour                      \n",
       "0     14.705745  13.426630\n",
       "1     14.962171  13.739290\n",
       "2     15.203420  13.980583\n",
       "3     15.593803  14.235877\n",
       "4     16.410222  14.676762\n",
       "5     18.242751  16.224215\n",
       "6     17.273457  15.359177\n",
       "7     13.607806  12.076433\n",
       "8     12.401777  11.052632\n",
       "9     12.676055  11.356273"
      ]
     },
     "execution_count": 39,
     "metadata": {},
     "output_type": "execute_result"
    }
   ],
   "source": [
    "speed_by_hour = df2.groupby('hour')['speed'].agg([np.mean, np.median])\n",
    "speed_by_hour.head(10)"
   ]
  },
  {
   "cell_type": "markdown",
   "metadata": {},
   "source": [
    "Next we plot the median speed as the hour of the day. It verified our hyphothesis."
   ]
  },
  {
   "cell_type": "code",
   "execution_count": 40,
   "metadata": {},
   "outputs": [
    {
     "data": {
      "image/png": "[encoded data removed]",
      "text/plain": [
       "<matplotlib.figure.Figure at 0x3377ef98>"
      ]
     },
     "metadata": {},
     "output_type": "display_data"
    }
   ],
   "source": [
    "plt.figure(figsize=(8,16))\n",
    "ax1 = plt.subplot(311)\n",
    "plt.scatter(range(24), speed_by_hour[\"mean\"], c ='r',label = \"mean speed\")\n",
    "plt.scatter(range(24), speed_by_hour['median'],c ='b',label = \"median speed\")\n",
    "plt.plot(range(24), speed_by_hour['mean'],c ='r',label = \"\")\n",
    "plt.plot(range(24), speed_by_hour['median'],c ='b',label = \"\")\n",
    "legend = plt.legend(loc='upper right', shadow=True, fontsize='x-large')\n",
    "plt.axis([-0.5, 24, 9, 20])\n",
    "\n",
    "plt.ylabel('speed of the trip in mph',fontsize=18)\n",
    "plt.setp(ax1.get_xticklabels(),fontsize=18)\n",
    "plt.setp(ax1.get_yticklabels(),fontsize=18)\n",
    "plt.xlabel('hour of the day',fontsize=18)\n",
    "ax2 = plt.subplot(312, sharex=ax1)\n",
    "plt.scatter(range(24), df2.groupby('hour')['speed'].count(), c ='r',label = \"taxi trip count\")\n",
    "legend = plt.legend(loc='right', shadow=True, fontsize='x-large')\n",
    "plt.plot(range(24), df.groupby('hour')['speed'].count(), c ='r')\n",
    "plt.axis([-0.5, 24, 0, 100000])\n",
    "plt.setp(ax2.get_xticklabels(),fontsize=18)\n",
    "plt.setp(ax2.get_yticklabels(),fontsize=10)\n",
    "plt.xlabel('hour of the day',fontsize=18)\n",
    "plt.ylabel('total taxi traffic',fontsize=18)\n",
    "plt.savefig(\"figs/by_hour.png\", dpi =100)\n",
    "plt.show()"
   ]
  },
  {
   "cell_type": "markdown",
   "metadata": {},
   "source": [
    "Our hyphothesis on speed is based on the total traffic as each hour. We can plot the total trips as each hour of the day. We found this is partially true. After midnight, the number of riders decreases and speed is getting higher. But after dinner, the number of riders increases but the average speed also increases compared to daytime. It seems speed increases because other traffic disappered after dinner. A great time to go out.  "
   ]
  }
 ],
 "metadata": {
  "celltoolbar": "Raw Cell Format",
  "kernelspec": {
   "display_name": "Python 3",
   "language": "python",
   "name": "python3"
  },
  "language_info": {
   "codemirror_mode": {
    "name": "ipython",
    "version": 3
   },
   "file_extension": ".py",
   "mimetype": "text/x-python",
   "name": "python",
   "nbconvert_exporter": "python",
   "pygments_lexer": "ipython3",
   "version": "3.6.3"
  }
 },
 "nbformat": 4,
 "nbformat_minor": 1
}
